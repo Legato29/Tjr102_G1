{
 "cells": [
  {
   "cell_type": "code",
   "execution_count": null,
   "id": "16bb688b",
   "metadata": {},
   "outputs": [
    {
     "name": "stdout",
     "output_type": "stream",
     "text": [
      "Successfully connected!\n"
     ]
    }
   ],
   "source": [
    "#這是連接GCP的mysql的程式 其中參數的db不用代入\n",
    "#本地密碼是Allenlee7@\n",
    "#GCP的密碼是allenlee7\n",
    "import pandas as pd\n",
    "import pymysql #pymysql 模組，是用來操作 MySQL 資料庫的套件\n",
    "\n",
    "# 設定資料庫連線資訊\n",
    "host = 'localhost'  # 資料庫主機地址\n",
    "# 如果是遠端主機，請使用遠端主機的 IP 地址或域名\n",
    "# 如果是本機，則可以使用 'localhost' 或 '127.0.0.1'\n",
    "\n",
    "port = 3306     # MySQL 預設的連接埠號是 3306\n",
    "user = 'root'   #使用者名稱，例如 'root'（管理者帳號）\n",
    "\n",
    "passwd = 'allenlee7'   # 資料庫密碼，請根據實際情況修改\n",
    "db = 'test'           # 資料庫名稱，請根據實際情況修改\n",
    "charset = 'utf8mb4'     # 字符集，通常使用 'utf8mb4' 以支援完整 Unicode（包括 emoji）\n",
    "\n",
    "# 建立連線\n",
    "conn = pymysql.connect(host=host, port=port, user=user, passwd=passwd, charset=charset)\n",
    "#使用 pymysql.connect(...) 來建立一個資料庫連線物件 conn\n",
    "#此連線物件可用於：建立 cursor 游標查詢、執行 SQL 指令（查詢、更新、插入等）、提交或回滾交易（commit() / rollback()）\n",
    "\n",
    "print('Successfully connected!')"
   ]
  },
  {
   "cell_type": "code",
   "execution_count": 6,
   "id": "7ff14bd9",
   "metadata": {},
   "outputs": [
    {
     "name": "stdout",
     "output_type": "stream",
     "text": [
      "          name continent     area  population             gdp\n",
      "0  Afghanistan      Asia   652230    25500100   2034300000000\n",
      "1      Albania    Europe    28748     2831741   1296000000000\n",
      "2      Algeria    Africa  2381741    37100000   1886810000000\n",
      "3      Andorra    Europe      468       78115    371200000000\n",
      "4       Angola    Africa  1246700    20609294  10099000000000\n"
     ]
    },
    {
     "name": "stderr",
     "output_type": "stream",
     "text": [
      "C:\\Users\\Legato\\AppData\\Local\\Temp\\ipykernel_57460\\511623586.py:2: UserWarning: pandas only supports SQLAlchemy connectable (engine/connection) or database string URI or sqlite3 DBAPI2 connection. Other DBAPI2 objects are not tested. Please consider using SQLAlchemy.\n",
      "  df = pd.read_sql(\n"
     ]
    }
   ],
   "source": [
    "#讀取資料，確定data在mysql中已建立\n",
    "df = pd.read_sql(\n",
    "    \"select * from world\",\n",
    "    conn,\n",
    ")\n",
    "\n",
    "print(df)"
   ]
  },
  {
   "cell_type": "code",
   "execution_count": 7,
   "id": "06539433",
   "metadata": {},
   "outputs": [
    {
     "data": {
      "text/html": [
       "<div>\n",
       "<style scoped>\n",
       "    .dataframe tbody tr th:only-of-type {\n",
       "        vertical-align: middle;\n",
       "    }\n",
       "\n",
       "    .dataframe tbody tr th {\n",
       "        vertical-align: top;\n",
       "    }\n",
       "\n",
       "    .dataframe thead th {\n",
       "        text-align: right;\n",
       "    }\n",
       "</style>\n",
       "<table border=\"1\" class=\"dataframe\">\n",
       "  <thead>\n",
       "    <tr style=\"text-align: right;\">\n",
       "      <th></th>\n",
       "      <th>name</th>\n",
       "      <th>population</th>\n",
       "      <th>area</th>\n",
       "    </tr>\n",
       "  </thead>\n",
       "  <tbody>\n",
       "    <tr>\n",
       "      <th>0</th>\n",
       "      <td>Afghanistan</td>\n",
       "      <td>25500100</td>\n",
       "      <td>652230</td>\n",
       "    </tr>\n",
       "    <tr>\n",
       "      <th>2</th>\n",
       "      <td>Algeria</td>\n",
       "      <td>37100000</td>\n",
       "      <td>2381741</td>\n",
       "    </tr>\n",
       "  </tbody>\n",
       "</table>\n",
       "</div>"
      ],
      "text/plain": [
       "          name  population     area\n",
       "0  Afghanistan    25500100   652230\n",
       "2      Algeria    37100000  2381741"
      ]
     },
     "execution_count": 7,
     "metadata": {},
     "output_type": "execute_result"
    }
   ],
   "source": [
    "#python寫法，並使用連接mysql的data，做進一步的篩選資料\n",
    "def big_countries1(world: pd.DataFrame) -> pd.DataFrame:\n",
    "    return(\n",
    "        world.loc[\n",
    "            (world[\"area\"]>=3000000) | (world[\"population\"]>=25000000) ,[\"name\",\"population\",\"area\"]\n",
    "        ]\n",
    "    )\n",
    "    \n",
    "big_countries1(df)"
   ]
  },
  {
   "cell_type": "code",
   "execution_count": 8,
   "id": "28f0ef34",
   "metadata": {},
   "outputs": [
    {
     "name": "stdout",
     "output_type": "stream",
     "text": [
      "             0         1        2\n",
      "0  Afghanistan  25500100   652230\n",
      "1      Algeria  37100000  2381741\n"
     ]
    }
   ],
   "source": [
    "#在python直接使用mysql的寫法：\n",
    "cursor = conn.cursor()      \n",
    "#conn 是之前使用 pymysql.connect() 建立的資料庫連線對象\n",
    "#創建一個游標（cursor）對象，該對象用於在資料庫中執行 SQL 查詢並處理結果\n",
    "\n",
    "sql = \"\"\"\n",
    "select name,population,area \n",
    "from world \n",
    "where area>=3000000 or population>=25000000;\n",
    "\"\"\"\n",
    "#定義多行 SQL 查詢語句，儲存在 sql 變數中\n",
    "\n",
    "cursor.execute(sql)\n",
    "#execute(sql) 是游標對象的方法，接受一個 SQL 語句作為參數，並將其發送到資料庫伺服器執行，執行後，查詢結果被緩存在游標中\n",
    "\n",
    "cursor.scroll(0, mode='absolute')\n",
    "#0 表示偏移量，mode='absolute' 表示將游標移動到結果集的第 0 行（第一行）\n",
    "#確保游標從頭開始，特別是在多次執行或滾動後重置位置\n",
    "\n",
    "world = pd.DataFrame(cursor.fetchall())\n",
    "#fetchall() 是游標的方法，提取查詢結果集中的所有行，返回一個列表，每行是一個元組，包含查詢選取的欄位值\n",
    "#然後將其轉為dataframe的形式\n",
    "print(world)"
   ]
  },
  {
   "cell_type": "code",
   "execution_count": 9,
   "id": "86e16eed",
   "metadata": {},
   "outputs": [],
   "source": [
    "#將游標與連結關閉\n",
    "cursor.close()\n",
    "conn.close()"
   ]
  }
 ],
 "metadata": {
  "kernelspec": {
   "display_name": "Python 3",
   "language": "python",
   "name": "python3"
  },
  "language_info": {
   "codemirror_mode": {
    "name": "ipython",
    "version": 3
   },
   "file_extension": ".py",
   "mimetype": "text/x-python",
   "name": "python",
   "nbconvert_exporter": "python",
   "pygments_lexer": "ipython3",
   "version": "3.13.2"
  }
 },
 "nbformat": 4,
 "nbformat_minor": 5
}
